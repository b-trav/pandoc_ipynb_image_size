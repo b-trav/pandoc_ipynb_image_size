{
 "cells": [
  {
   "cell_type": "markdown",
   "id": "896a27e5-125e-4ca4-a1ae-8b47c2f28d7b",
   "metadata": {},
   "source": [
    "## Pandoc image sizing when converting from Jupyter notebook to LaTeX\n",
    "\n",
    "I am attempting to use `pandoc` to convert a Jupyter Notebook into a readable pdf.\n",
    "I have read the [pandoc manual](https://pandoc.org/MANUAL.html#images) section regarding images.\n",
    "Unfortunately the `ipynb` to `pdf` does not appear to be working as expected.\n",
    "\n",
    "```bash\n",
    "pandoc --version\n",
    "```\n",
    "\n",
    "gives\n",
    "\n",
    "```\n",
    "pandoc 2.12\n",
    "Compiled with pandoc-types 1.22, texmath 0.12.1.1, skylighting 0.10.4,\n",
    "citeproc 0.3.0.8, ipynb 0.1.0.1\n",
    "```\n",
    "\n",
    "Here is an image, where I would like to specify the width\n",
    "\n",
    "![Image Caption](test_image.png){ width=1cm }\n",
    "\n",
    "Running:\n",
    "\n",
    "```bash\n",
    "pandoc -s -o README.tex README.md\n",
    "pdflatex README.tex\n",
    "```\n",
    "\n",
    "gives:\n",
    "\n",
    "```latex\n",
    "\\begin{figure}\n",
    "\\centering\n",
    "\\includegraphics[width=1cm,height=\\textheight]{test_image.png}\n",
    "\\caption{Image Caption}\n",
    "\\end{figure}\n",
    "```\n",
    "\n",
    "However, if I put exactly this text in a markdown cell in a notebook, and run\n",
    "\n",
    "```bash\n",
    "pandoc --from ipynb -s -o Pandoc_problems.tex Pandoc_problems.ipynb\n",
    "pdflatex Pandoc_problems.tex\n",
    "```\n",
    "\n",
    "I get:\n",
    "\n",
    "```latex\n",
    "\\includegraphics{test_image.png}\\{ width=1cm \\}\n",
    "```\n"
   ]
  },
  {
   "cell_type": "code",
   "execution_count": null,
   "id": "641afba0-1140-4a75-b0e7-321721643c81",
   "metadata": {},
   "outputs": [],
   "source": []
  }
 ],
 "metadata": {
  "kernelspec": {
   "display_name": "Python 3",
   "language": "python",
   "name": "python3"
  },
  "language_info": {
   "codemirror_mode": {
    "name": "ipython",
    "version": 3
   },
   "file_extension": ".py",
   "mimetype": "text/x-python",
   "name": "python",
   "nbconvert_exporter": "python",
   "pygments_lexer": "ipython3",
   "version": "3.9.2"
  }
 },
 "nbformat": 4,
 "nbformat_minor": 5
}
